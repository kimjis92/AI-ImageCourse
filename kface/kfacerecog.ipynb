{
  "nbformat": 4,
  "nbformat_minor": 0,
  "metadata": {
    "colab": {
      "name": "kfacerecog.ipynb",
      "provenance": [],
      "collapsed_sections": [],
      "machine_shape": "hm",
      "authorship_tag": "ABX9TyNhjS6J3CYQM6+u6EEYp8If",
      "include_colab_link": true
    },
    "kernelspec": {
      "name": "python3",
      "display_name": "Python 3"
    },
    "accelerator": "GPU"
  },
  "cells": [
    {
      "cell_type": "markdown",
      "metadata": {
        "id": "view-in-github",
        "colab_type": "text"
      },
      "source": [
        "<a href=\"https://colab.research.google.com/github/kimjis92/AI-ImageCourse/blob/master/kfacerecog.ipynb\" target=\"_parent\"><img src=\"https://colab.research.google.com/assets/colab-badge.svg\" alt=\"Open In Colab\"/></a>"
      ]
    },
    {
      "cell_type": "code",
      "metadata": {
        "id": "wD0usfQQc5wE",
        "colab_type": "code",
        "colab": {}
      },
      "source": [
        ""
      ],
      "execution_count": 0,
      "outputs": []
    },
    {
      "cell_type": "markdown",
      "metadata": {
        "id": "ICashS-4dX4K",
        "colab_type": "text"
      },
      "source": [
        "`!unzip -uq \"/content/drive/My Drive/roi_sample/roi_set.zip\" -d \"/content/drive/My Drive/roi_sample\"`  **-uq 다음은 경로, -d 다음은 저장할 파일경로**\n",
        "\n",
        "구글 드라이브에 바로 모든파일 올리는것은 속도가 느리므로 파일을 압축해서 드라브에 올리고 드라이브에서 구글코랩을 통해 압축을푸는게 속도가 훠얼씬 빠르다"
      ]
    },
    {
      "cell_type": "markdown",
      "metadata": {
        "id": "TXtIxbK1dQz5",
        "colab_type": "text"
      },
      "source": [
        ""
      ]
    },
    {
      "cell_type": "code",
      "metadata": {
        "id": "LrjDoLWY_6me",
        "colab_type": "code",
        "outputId": "218ca667-558f-40d3-c1ba-ede7cda0f0fe",
        "colab": {
          "base_uri": "https://localhost:8080/",
          "height": 64
        }
      },
      "source": [
        "import numpy as np\n",
        "import tensorflow as tf\n",
        "import os\n",
        "import glob"
      ],
      "execution_count": 0,
      "outputs": [
        {
          "output_type": "display_data",
          "data": {
            "text/html": [
              "<p style=\"color: red;\">\n",
              "The default version of TensorFlow in Colab will soon switch to TensorFlow 2.x.<br>\n",
              "We recommend you <a href=\"https://www.tensorflow.org/guide/migrate\" target=\"_blank\">upgrade</a> now \n",
              "or ensure your notebook will continue to use TensorFlow 1.x via the <code>%tensorflow_version 1.x</code> magic:\n",
              "<a href=\"https://colab.research.google.com/notebooks/tensorflow_version.ipynb\" target=\"_blank\">more info</a>.</p>\n"
            ],
            "text/plain": [
              "<IPython.core.display.HTML object>"
            ]
          },
          "metadata": {
            "tags": []
          }
        }
      ]
    },
    {
      "cell_type": "code",
      "metadata": {
        "id": "5GSRpofUAKiF",
        "colab_type": "code",
        "outputId": "0387d4da-c52f-47d6-f33e-6661a2a8e47a",
        "colab": {
          "base_uri": "https://localhost:8080/",
          "height": 35
        }
      },
      "source": [
        "from keras.applications.resnet import ResNet50\n",
        "from keras.preprocessing.image import ImageDataGenerator\n",
        "from keras import models\n",
        "from keras import layers\n",
        "from sklearn.model_selection import train_test_split\n",
        "from keras.utils import to_categorical\n",
        "from keras.preprocessing import image"
      ],
      "execution_count": 0,
      "outputs": [
        {
          "output_type": "stream",
          "text": [
            "Using TensorFlow backend.\n"
          ],
          "name": "stderr"
        }
      ]
    },
    {
      "cell_type": "code",
      "metadata": {
        "id": "VyMoIl1yAN6j",
        "colab_type": "code",
        "outputId": "988df9b6-1224-43e8-bc3a-9c79711525d5",
        "colab": {
          "base_uri": "https://localhost:8080/",
          "height": 127
        }
      },
      "source": [
        "from google.colab import drive\n",
        "\n",
        "drive.mount('/content/gdrive')"
      ],
      "execution_count": 0,
      "outputs": [
        {
          "output_type": "stream",
          "text": [
            "Go to this URL in a browser: https://accounts.google.com/o/oauth2/auth?client_id=947318989803-6bn6qk8qdgf4n4g3pfee6491hc0brc4i.apps.googleusercontent.com&redirect_uri=urn%3aietf%3awg%3aoauth%3a2.0%3aoob&response_type=code&scope=email%20https%3a%2f%2fwww.googleapis.com%2fauth%2fdocs.test%20https%3a%2f%2fwww.googleapis.com%2fauth%2fdrive%20https%3a%2f%2fwww.googleapis.com%2fauth%2fdrive.photos.readonly%20https%3a%2f%2fwww.googleapis.com%2fauth%2fpeopleapi.readonly\n",
            "\n",
            "Enter your authorization code:\n",
            "··········\n",
            "Mounted at /content/gdrive\n"
          ],
          "name": "stdout"
        }
      ]
    },
    {
      "cell_type": "code",
      "metadata": {
        "id": "Y_VjKYINAP_d",
        "colab_type": "code",
        "outputId": "dad2e55d-bd2a-42aa-bde2-a8395d4762c9",
        "colab": {
          "base_uri": "https://localhost:8080/",
          "height": 35
        }
      },
      "source": [
        "os.getcwd()"
      ],
      "execution_count": 0,
      "outputs": [
        {
          "output_type": "execute_result",
          "data": {
            "text/plain": [
              "'/content'"
            ]
          },
          "metadata": {
            "tags": []
          },
          "execution_count": 4
        }
      ]
    },
    {
      "cell_type": "code",
      "metadata": {
        "id": "drOapYmfAQGi",
        "colab_type": "code",
        "outputId": "7a6d9a11-18be-41ab-b53b-76d65e577e19",
        "colab": {
          "base_uri": "https://localhost:8080/",
          "height": 505
        }
      },
      "source": [
        "conv_base=ResNet50(weights='imagenet', #체크포인트  ex) imagenet에서 미리 학습시킨 가중치 사용\n",
        "               include_top=False, #최상위 완전연결 분류기 포함할지 안할지 결정\n",
        "               input_shape=((256, 256, 3))) # 아무것도 지정하지 않으면 어떤 크기의 입력도 처리 가"
      ],
      "execution_count": 0,
      "outputs": [
        {
          "output_type": "stream",
          "text": [
            "WARNING:tensorflow:From /usr/local/lib/python3.6/dist-packages/keras/backend/tensorflow_backend.py:66: The name tf.get_default_graph is deprecated. Please use tf.compat.v1.get_default_graph instead.\n",
            "\n",
            "WARNING:tensorflow:From /usr/local/lib/python3.6/dist-packages/keras/backend/tensorflow_backend.py:541: The name tf.placeholder is deprecated. Please use tf.compat.v1.placeholder instead.\n",
            "\n",
            "WARNING:tensorflow:From /usr/local/lib/python3.6/dist-packages/keras/backend/tensorflow_backend.py:4432: The name tf.random_uniform is deprecated. Please use tf.random.uniform instead.\n",
            "\n",
            "WARNING:tensorflow:From /usr/local/lib/python3.6/dist-packages/keras/backend/tensorflow_backend.py:190: The name tf.get_default_session is deprecated. Please use tf.compat.v1.get_default_session instead.\n",
            "\n",
            "WARNING:tensorflow:From /usr/local/lib/python3.6/dist-packages/keras/backend/tensorflow_backend.py:197: The name tf.ConfigProto is deprecated. Please use tf.compat.v1.ConfigProto instead.\n",
            "\n",
            "WARNING:tensorflow:From /usr/local/lib/python3.6/dist-packages/keras/backend/tensorflow_backend.py:203: The name tf.Session is deprecated. Please use tf.compat.v1.Session instead.\n",
            "\n",
            "WARNING:tensorflow:From /usr/local/lib/python3.6/dist-packages/keras/backend/tensorflow_backend.py:207: The name tf.global_variables is deprecated. Please use tf.compat.v1.global_variables instead.\n",
            "\n",
            "WARNING:tensorflow:From /usr/local/lib/python3.6/dist-packages/keras/backend/tensorflow_backend.py:216: The name tf.is_variable_initialized is deprecated. Please use tf.compat.v1.is_variable_initialized instead.\n",
            "\n",
            "WARNING:tensorflow:From /usr/local/lib/python3.6/dist-packages/keras/backend/tensorflow_backend.py:223: The name tf.variables_initializer is deprecated. Please use tf.compat.v1.variables_initializer instead.\n",
            "\n",
            "WARNING:tensorflow:From /usr/local/lib/python3.6/dist-packages/keras/backend/tensorflow_backend.py:2041: The name tf.nn.fused_batch_norm is deprecated. Please use tf.compat.v1.nn.fused_batch_norm instead.\n",
            "\n",
            "WARNING:tensorflow:From /usr/local/lib/python3.6/dist-packages/keras/backend/tensorflow_backend.py:148: The name tf.placeholder_with_default is deprecated. Please use tf.compat.v1.placeholder_with_default instead.\n",
            "\n",
            "WARNING:tensorflow:From /usr/local/lib/python3.6/dist-packages/keras/backend/tensorflow_backend.py:4267: The name tf.nn.max_pool is deprecated. Please use tf.nn.max_pool2d instead.\n",
            "\n",
            "Downloading data from https://github.com/keras-team/keras-applications/releases/download/resnet/resnet50_weights_tf_dim_ordering_tf_kernels_notop.h5\n",
            "94773248/94765736 [==============================] - 7s 0us/step\n"
          ],
          "name": "stdout"
        }
      ]
    },
    {
      "cell_type": "code",
      "metadata": {
        "id": "k3uGagrEAQK-",
        "colab_type": "code",
        "outputId": "1cb91b5c-616e-4cc0-fc47-d98f5c8da429",
        "colab": {
          "base_uri": "https://localhost:8080/",
          "height": 269
        }
      },
      "source": [
        "model=models.Sequential()\n",
        "model.add(conv_base)\n",
        "model.add(layers.Flatten())\n",
        "# model.add(layers.Dense(256, activation='relu'))\n",
        "model.add(layers.Dense(2, activation='softmax'))\n",
        "model.summary()"
      ],
      "execution_count": 0,
      "outputs": [
        {
          "output_type": "stream",
          "text": [
            "Model: \"sequential_1\"\n",
            "_________________________________________________________________\n",
            "Layer (type)                 Output Shape              Param #   \n",
            "=================================================================\n",
            "resnet50 (Model)             (None, 8, 8, 2048)        23587712  \n",
            "_________________________________________________________________\n",
            "flatten_1 (Flatten)          (None, 131072)            0         \n",
            "_________________________________________________________________\n",
            "dense_1 (Dense)              (None, 2)                 262146    \n",
            "=================================================================\n",
            "Total params: 23,849,858\n",
            "Trainable params: 23,796,738\n",
            "Non-trainable params: 53,120\n",
            "_________________________________________________________________\n"
          ],
          "name": "stdout"
        }
      ]
    },
    {
      "cell_type": "code",
      "metadata": {
        "id": "g9YcjmPfAQPe",
        "colab_type": "code",
        "outputId": "3cadc099-d2f4-4f37-e99f-7b6cb49c9405",
        "colab": {
          "base_uri": "https://localhost:8080/",
          "height": 35
        }
      },
      "source": [
        "pu='/content/gdrive/My Drive/이미지 인식 멀캠 프로젝트/kface'\n",
        "print(os.listdir(pu))"
      ],
      "execution_count": 0,
      "outputs": [
        {
          "output_type": "stream",
          "text": [
            "['E02', 'E01', 'E03']\n"
          ],
          "name": "stdout"
        }
      ]
    },
    {
      "cell_type": "markdown",
      "metadata": {
        "id": "CbI4ZLR4ac0K",
        "colab_type": "text"
      },
      "source": [
        ""
      ]
    },
    {
      "cell_type": "markdown",
      "metadata": {
        "id": "f2n67_w0arsr",
        "colab_type": "text"
      },
      "source": [
        ""
      ]
    },
    {
      "cell_type": "code",
      "metadata": {
        "id": "BhA6T88yAfqE",
        "colab_type": "code",
        "colab": {}
      },
      "source": [
        "gipass='/content/gdrive/My Drive/이미지 인식 멀캠 프로젝트/kface/E02'\n",
        "mupass='/content/gdrive/My Drive/이미지 인식 멀캠 프로젝트/kface/E01'\n",
        "jipass='/content/gdrive/My Drive/이미지 인식 멀캠 프로젝트/kface/E03'\n",
        "\n",
        "\n",
        "\n",
        "x=[]\n",
        "y=[]\n",
        "gi=glob.glob(gipass+'/*.jpg')\n",
        "mu=glob.glob(mupass+'/*.jpg')\n",
        "ji=glob.glob(jipass+'/*.jpg')\n",
        "for k in gi :\n",
        "  o=image.load_img(k, target_size=(256, 256))\n",
        "  p=image.img_to_array(o)\n",
        "  p=p/255\n",
        "  x.append(p)\n",
        "  y.append(0)\n",
        "\n",
        "for k in mu :\n",
        "  o=image.load_img(k, target_size=(256, 256))\n",
        "  p=image.img_to_array(o)\n",
        "  p=p/255\n",
        "  x.append(p)\n",
        "  y.append(1)\n",
        "\n",
        "for k in ji :\n",
        "  o=image.load_img(k, target_size=(256, 256))\n",
        "  p=image.img_to_array(o)\n",
        "  p=p/255\n",
        "  x.append(p)\n",
        "  y.append(2)\n"
      ],
      "execution_count": 0,
      "outputs": []
    },
    {
      "cell_type": "code",
      "metadata": {
        "id": "uazXwKzjAfvl",
        "colab_type": "code",
        "colab": {}
      },
      "source": [
        "for i in range(len(y)):\n",
        "  if y[i]=='gi' :\n",
        "    y[i]=0\n",
        "  elif y[i]=='mu' :\n",
        "    y[i]=1\n",
        "  elif y[i]=='ji' :\n",
        "    y[i]=2"
      ],
      "execution_count": 0,
      "outputs": []
    },
    {
      "cell_type": "code",
      "metadata": {
        "id": "5bjXzwsQAf0j",
        "colab_type": "code",
        "colab": {}
      },
      "source": [
        "x=np.array(x)\n",
        "y=np.array(y)"
      ],
      "execution_count": 0,
      "outputs": []
    },
    {
      "cell_type": "code",
      "metadata": {
        "id": "vbLJ2nkyAf5i",
        "colab_type": "code",
        "colab": {}
      },
      "source": [
        "y.shape"
      ],
      "execution_count": 0,
      "outputs": []
    },
    {
      "cell_type": "code",
      "metadata": {
        "id": "-OeM-B4EAf-G",
        "colab_type": "code",
        "colab": {}
      },
      "source": [
        "y=to_categorical(y)\n",
        "train_x, test_x, train_y, test_y =train_test_split(x, y, test_size=0.2)"
      ],
      "execution_count": 0,
      "outputs": []
    },
    {
      "cell_type": "code",
      "metadata": {
        "id": "TnIz0qGdAgBy",
        "colab_type": "code",
        "colab": {}
      },
      "source": [
        "from keras.optimizers import adam"
      ],
      "execution_count": 0,
      "outputs": []
    },
    {
      "cell_type": "code",
      "metadata": {
        "id": "WbHKtLj9AgFi",
        "colab_type": "code",
        "colab": {}
      },
      "source": [
        "model.compile(loss='categorical_crossentropy', optimizer=adam(lr=0.00001), metrics=['acc'])\n",
        "history=model.fit(train_x, train_y, epochs=40, validation_split=0.25, batch_size=8)"
      ],
      "execution_count": 0,
      "outputs": []
    },
    {
      "cell_type": "code",
      "metadata": {
        "id": "8TKwNnCVAQSu",
        "colab_type": "code",
        "colab": {}
      },
      "source": [
        "y"
      ],
      "execution_count": 0,
      "outputs": []
    },
    {
      "cell_type": "code",
      "metadata": {
        "id": "bOwhEencAQV0",
        "colab_type": "code",
        "colab": {}
      },
      "source": [
        "os.getcwd()"
      ],
      "execution_count": 0,
      "outputs": []
    },
    {
      "cell_type": "code",
      "metadata": {
        "id": "KsVDnnnUZr55",
        "colab_type": "code",
        "colab": {}
      },
      "source": [
        ""
      ],
      "execution_count": 0,
      "outputs": []
    }
  ]
}
